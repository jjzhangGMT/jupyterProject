{
 "cells": [
  {
   "cell_type": "code",
   "execution_count": null,
   "metadata": {},
   "outputs": [],
   "source": [
    "# -*- coding: UTF-8 -*-\n",
    " \n",
    "# Filename : test.py\n",
    "# author by : www.runoob.com\n",
    " \n",
    " \n",
    "a = float(input('输入三角形第一边长: '))\n",
    "b = float(input('输入三角形第二边长: '))\n",
    "c = float(input('输入三角形第三边长: '))\n",
    " \n",
    "# 计算半周长\n",
    "s = (a + b + c) / 2\n",
    " \n",
    "# 计算面积\n",
    "area = (s*(s-a)*(s-b)*(s-c)) ** 0.5\n",
    "print('三角形面积为 %0.2f' %area)"
   ]
  }
 ],
 "metadata": {
  "kernelspec": {
   "display_name": "Python 3",
   "language": "python",
   "name": "python3"
  },
  "language_info": {
   "codemirror_mode": {
    "name": "ipython",
    "version": 3
   },
   "file_extension": ".py",
   "mimetype": "text/x-python",
   "name": "python",
   "nbconvert_exporter": "python",
   "pygments_lexer": "ipython3",
   "version": "3.7.7"
  }
 },
 "nbformat": 4,
 "nbformat_minor": 4
}
